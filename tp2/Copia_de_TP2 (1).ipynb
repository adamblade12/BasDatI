{
  "cells": [
    {
      "cell_type": "markdown",
      "source": [
        "# Código de inicialización\n",
        "Este código permite inicializar las bibliotecas para usar SQLite en la máquina virtual de Google Colab. El código además elimina cualquier dato almacenado anteriormente en el archvio `ejemplos.db`. Es recomendable volver a correr el código cada vez que se comience con la resolución de un nuevo ejercicio."
      ],
      "metadata": {
        "id": "QuMn1Lbbdz7p"
      },
      "id": "QuMn1Lbbdz7p"
    },
    {
      "cell_type": "code",
      "execution_count": 1,
      "metadata": {
        "id": "IFHmq0oNKLZQ",
        "colab": {
          "base_uri": "https://localhost:8080/"
        },
        "outputId": "62a1972a-4bd1-48f3-d3ec-e100c6926e69"
      },
      "outputs": [
        {
          "output_type": "stream",
          "name": "stdout",
          "text": [
            "Requirement already satisfied: pymysql in /usr/local/lib/python3.10/dist-packages (1.1.1)\n"
          ]
        }
      ],
      "source": [
        "!pip install pymysql\n",
        "%load_ext sql\n",
        "!rm -rf ejemplos.db\n",
        "%sql sqlite:///ejemplos.db"
      ],
      "id": "IFHmq0oNKLZQ"
    },
    {
      "cell_type": "markdown",
      "id": "4bfd6149",
      "metadata": {
        "id": "4bfd6149"
      },
      "source": [
        "# TP2: Ejercicios de SQL"
      ]
    },
    {
      "cell_type": "markdown",
      "id": "75f13c80",
      "metadata": {
        "id": "75f13c80"
      },
      "source": [
        "\n",
        "## EJERCICIO 1:  Base de datos para un club náutico\n",
        "\n",
        "### Descripción:\n",
        "Se quiere diseñar una base de datos relacional para gestionar los datos de los socios de un club náutico. De cada socio se guardan los datos personales y la información de los barcos que posee:\n",
        "- Número de matrícula, nombre, número de amarre, cuota.\n",
        "\n",
        "Además, se almacena información sobre las salidas realizadas por cada barco:\n",
        "- Fecha y hora de salida, destino y datos del patrón (que no tiene que ser el propietario ni un socio del club).\n",
        "\n",
        "### Esquema propuesto:\n",
        "- Tabla `Socios`: Almacena la información de los socios del club.\n",
        "- Tabla `Barcos`: Almacena la información de los barcos y sus propietarios.\n",
        "- Tabla `Salidas`: Almacena la información de las salidas realizadas por los barcos.\n",
        "\n",
        "### Esquema de tablas\n",
        "Este sería el esquema de tablas en lenguaje DBML\n",
        "\n",
        "```dbml\n",
        "Table Socios {\n",
        "    id_socio INT [pk]\n",
        "    nombre VARCHAR(100)\n",
        "    direccion VARCHAR(255)\n",
        "}\n",
        "\n",
        "Table Barcos {\n",
        "    matricula VARCHAR(20) [pk]\n",
        "    nombre VARCHAR(100)\n",
        "    numero_amarre INT\n",
        "    cuota DECIMAL(10, 2)\n",
        "    id_socio INT [ref: > Socios.id_socio]\n",
        "}\n",
        "\n",
        "Table Salidas {\n",
        "    id_salida INT [pk]\n",
        "    matricula VARCHAR(20) [ref: > Barcos.matricula]\n",
        "    fecha_salida DATE\n",
        "    hora_salida TIME\n",
        "    destino VARCHAR(100)\n",
        "    patron_nombre VARCHAR(100)\n",
        "    patron_direccion VARCHAR(255)\n",
        "}\n",
        "```\n",
        "\n",
        "### Escriba abajo el código SQL necesario para crear las tablas:\n",
        "\n"
      ]
    },
    {
      "cell_type": "code",
      "source": [
        "%%sql\n",
        "create table socios(id_socio int primary key, nombre varchar(100), direccion varchar(255));\n",
        "create table barcos( matricula varchar(20) PRIMARY KEY, nombre varchar(100), numero_amarre INT, cuota decimal(10,2), id_socio int,constraint fk_id_socio foreign key(id_socio) references socios(id_socio));\n",
        "create table salida(id_salida INT primary KEY, matricula varchar(20), fecha_salida DATE, hora_salida time, destino varchar(100), patron_nombre varchar(100), patron_direccion varchar(255), constraint fk_matricula foreign key(matricula) references barcos(matricula));"
      ],
      "metadata": {
        "id": "WQJ1ZlDikHxc",
        "colab": {
          "base_uri": "https://localhost:8080/"
        },
        "outputId": "8fa23e11-0772-481a-b571-6b23d1c2e529"
      },
      "id": "WQJ1ZlDikHxc",
      "execution_count": 11,
      "outputs": [
        {
          "output_type": "stream",
          "name": "stdout",
          "text": [
            " * sqlite:///ejemplos.db\n",
            "(sqlite3.OperationalError) table socios already exists\n",
            "[SQL: create table socios(id_socio int primary key, nombre varchar(100), direccion varchar(255));]\n",
            "(Background on this error at: https://sqlalche.me/e/20/e3q8)\n"
          ]
        }
      ]
    },
    {
      "cell_type": "markdown",
      "source": [
        "El código SQL de abajo le permite popular (es decir, rellenar) las tablas con datos."
      ],
      "metadata": {
        "id": "CvWQCFgMw6Aw"
      },
      "id": "CvWQCFgMw6Aw"
    },
    {
      "cell_type": "code",
      "source": [
        "%%sql\n",
        "-- Populación de las tablas\n",
        "INSERT INTO Socios (id_socio, nombre, direccion)\n",
        "VALUES\n",
        "(1, 'Juan Pérez', 'Calle Mayor 1, Madrid'),\n",
        "(2, 'Ana García', 'Calle Luna 5, Barcelona'),\n",
        "(3, 'Luis Fernández', 'Avenida del Sol 10, Valencia'),\n",
        "(4, 'Laura Sánchez', 'Plaza del Mar 3, Alicante'),\n",
        "(5, 'Carlos López', 'Calle Río 8, Sevilla'),\n",
        "(6, 'Marta Díaz', 'Calle de la Sierra 12, Zaragoza'),\n",
        "(7, 'Pedro Gómez', 'Calle Nueva 20, Bilbao'),\n",
        "(8, 'Lucía Jiménez', 'Calle Real 30, Madrid'),\n",
        "(9, 'María Torres', 'Calle Verde 15, Málaga'),\n",
        "(10, 'Fernando Martín', 'Calle Azul 25, Murcia');\n",
        "\n",
        "INSERT INTO Barcos (matricula, nombre, numero_amarre, cuota, id_socio)\n",
        "VALUES\n",
        "('ABC123', 'El Viento', 12, 600.50, 1),\n",
        "('DEF456', 'La Brisa', 8, 450.00, 2),\n",
        "('GHI789', 'El Sol', 15, 700.00, 3),\n",
        "('JKL012', 'El Mar', 10, 550.75, 4),\n",
        "('MNO345', 'La Luna', 18, 620.30, 5),\n",
        "('PQR678', 'El Horizonte', 20, 780.90, 6),\n",
        "('STU901', 'El Amanecer', 5, 400.00, 7),\n",
        "('VWX234', 'La Estrella', 7, 520.50, 8),\n",
        "('YZA567', 'La Marea', 14, 480.75, 9),\n",
        "('BCD890', 'El Océano', 6, 630.80, 10);\n",
        "\n",
        "INSERT INTO Salida (id_salida, matricula, fecha_salida, hora_salida, destino, patron_nombre, patron_direccion)\n",
        "VALUES\n",
        "(1, 'ABC123', '2023-07-15', '10:30:00', 'Mallorca', 'Patrón 1', 'Calle de la Playa 1, Palma'),\n",
        "(2, 'DEF456', '2023-07-20', '09:00:00', 'Ibiza', 'Patrón 2', 'Avenida del Puerto 3, Valencia'),\n",
        "(3, 'GHI789', '2023-07-22', '08:45:00', 'Menorca', 'Patrón 3', 'Calle de la Costa 10, Alicante'),\n",
        "(4, 'JKL012', '2023-07-25', '11:15:00', 'Mallorca', 'Patrón 4', 'Plaza del Faro 5, Barcelona'),\n",
        "(5, 'MNO345', '2023-08-01', '14:00:00', 'Formentera', 'Patrón 5', 'Calle del Puerto 20, Ibiza'),\n",
        "(6, 'PQR678', '2023-08-05', '07:30:00', 'Mallorca', 'Patrón 6', 'Calle de las Olas 15, Palma'),\n",
        "(7, 'STU901', '2023-08-10', '12:00:00', 'Ibiza', 'Patrón 7', 'Avenida de la Marina 7, Barcelona'),\n",
        "(8, 'VWX234', '2023-08-12', '09:30:00', 'Cabrera', 'Patrón 8', 'Calle del Mar 12, Alicante'),\n",
        "(9, 'YZA567', '2023-08-15', '10:00:00', 'Formentera', 'Patrón 9', 'Calle del Sol 4, Ibiza'),\n",
        "(10, 'BCD890', '2023-08-20', '08:00:00', 'Menorca', 'Patrón 10', 'Plaza del Faro 2, Palma');\n"
      ],
      "metadata": {
        "id": "mGeEPoC8luIN",
        "colab": {
          "base_uri": "https://localhost:8080/"
        },
        "outputId": "a8fdcdde-e8b4-424a-91d8-2a1da929f00e"
      },
      "id": "mGeEPoC8luIN",
      "execution_count": 3,
      "outputs": [
        {
          "output_type": "stream",
          "name": "stdout",
          "text": [
            " * sqlite:///ejemplos.db\n",
            "10 rows affected.\n",
            "10 rows affected.\n",
            "10 rows affected.\n"
          ]
        },
        {
          "output_type": "execute_result",
          "data": {
            "text/plain": [
              "[]"
            ]
          },
          "metadata": {},
          "execution_count": 3
        }
      ]
    },
    {
      "cell_type": "markdown",
      "source": [
        "### Resolver estas consignas sin usar JOIN:\n",
        "Estas consirgnas deben resolverse usando lo visto en la clase del lunes 16/09 antes de ver la parte de JOIN. Esto es: subconsultas, etc.\n",
        "1. ¿Qué socios tienen barcos amarrados en un número de amarre mayor que 10?"
      ],
      "metadata": {
        "id": "0ofA3-cklW_5"
      },
      "id": "0ofA3-cklW_5"
    },
    {
      "cell_type": "code",
      "source": [
        "%%sql\n",
        "select id_socio from barcos where numero_amarre >= 10;"
      ],
      "metadata": {
        "id": "Kbdb2-U7lbJo",
        "colab": {
          "base_uri": "https://localhost:8080/",
          "height": 203
        },
        "outputId": "403fa0f7-89ef-4d43-bfcf-fcb666321957"
      },
      "id": "Kbdb2-U7lbJo",
      "execution_count": 4,
      "outputs": [
        {
          "output_type": "stream",
          "name": "stdout",
          "text": [
            " * sqlite:///ejemplos.db\n",
            "Done.\n"
          ]
        },
        {
          "output_type": "execute_result",
          "data": {
            "text/plain": [
              "[(1,), (3,), (4,), (5,), (6,), (9,)]"
            ],
            "text/html": [
              "<table>\n",
              "    <thead>\n",
              "        <tr>\n",
              "            <th>id_socio</th>\n",
              "        </tr>\n",
              "    </thead>\n",
              "    <tbody>\n",
              "        <tr>\n",
              "            <td>1</td>\n",
              "        </tr>\n",
              "        <tr>\n",
              "            <td>3</td>\n",
              "        </tr>\n",
              "        <tr>\n",
              "            <td>4</td>\n",
              "        </tr>\n",
              "        <tr>\n",
              "            <td>5</td>\n",
              "        </tr>\n",
              "        <tr>\n",
              "            <td>6</td>\n",
              "        </tr>\n",
              "        <tr>\n",
              "            <td>9</td>\n",
              "        </tr>\n",
              "    </tbody>\n",
              "</table>"
            ]
          },
          "metadata": {},
          "execution_count": 4
        }
      ]
    },
    {
      "cell_type": "markdown",
      "source": [
        "2. ¿Cuáles son los nombres de los barcos y sus cuotas de aquellos barcos cuyo socio se llama 'Juan Pérez'?"
      ],
      "metadata": {
        "id": "mWRK4z1yl9-X"
      },
      "id": "mWRK4z1yl9-X"
    },
    {
      "cell_type": "code",
      "source": [
        "%%sql\n",
        "select matricula from barcos where id_socio = (select id_socio from socios where nombre = 'Juan Pérez');"
      ],
      "metadata": {
        "id": "cZyf9vCpmE-G",
        "colab": {
          "base_uri": "https://localhost:8080/",
          "height": 96
        },
        "outputId": "83bce763-efbd-49c6-f5fd-b8c830ace64f"
      },
      "id": "cZyf9vCpmE-G",
      "execution_count": 5,
      "outputs": [
        {
          "output_type": "stream",
          "name": "stdout",
          "text": [
            " * sqlite:///ejemplos.db\n",
            "Done.\n"
          ]
        },
        {
          "output_type": "execute_result",
          "data": {
            "text/plain": [
              "[('ABC123',)]"
            ],
            "text/html": [
              "<table>\n",
              "    <thead>\n",
              "        <tr>\n",
              "            <th>matricula</th>\n",
              "        </tr>\n",
              "    </thead>\n",
              "    <tbody>\n",
              "        <tr>\n",
              "            <td>ABC123</td>\n",
              "        </tr>\n",
              "    </tbody>\n",
              "</table>"
            ]
          },
          "metadata": {},
          "execution_count": 5
        }
      ]
    },
    {
      "cell_type": "markdown",
      "source": [
        "3. ¿Cuántas salidas ha realizado el barco con matrícula 'ABC123'?"
      ],
      "metadata": {
        "id": "pbpnGkeFmPkq"
      },
      "id": "pbpnGkeFmPkq"
    },
    {
      "cell_type": "code",
      "source": [
        "%%sql\n",
        "select matricula,count(*) from salida where matricula = 'ABC123' group by matricula;"
      ],
      "metadata": {
        "id": "nuj5n3DZmS3N",
        "colab": {
          "base_uri": "https://localhost:8080/",
          "height": 96
        },
        "outputId": "9bf07565-edb2-46a7-aa88-0f42280a2efa"
      },
      "id": "nuj5n3DZmS3N",
      "execution_count": 6,
      "outputs": [
        {
          "output_type": "stream",
          "name": "stdout",
          "text": [
            " * sqlite:///ejemplos.db\n",
            "Done.\n"
          ]
        },
        {
          "output_type": "execute_result",
          "data": {
            "text/plain": [
              "[('ABC123', 1)]"
            ],
            "text/html": [
              "<table>\n",
              "    <thead>\n",
              "        <tr>\n",
              "            <th>matricula</th>\n",
              "            <th>count(*)</th>\n",
              "        </tr>\n",
              "    </thead>\n",
              "    <tbody>\n",
              "        <tr>\n",
              "            <td>ABC123</td>\n",
              "            <td>1</td>\n",
              "        </tr>\n",
              "    </tbody>\n",
              "</table>"
            ]
          },
          "metadata": {},
          "execution_count": 6
        }
      ]
    },
    {
      "cell_type": "markdown",
      "source": [
        "4. Lista los barcos que tienen una cuota mayor a 500 y sus respectivos socios."
      ],
      "metadata": {
        "id": "GgyZ5pjymbXx"
      },
      "id": "GgyZ5pjymbXx"
    },
    {
      "cell_type": "code",
      "source": [
        "%%sql\n",
        "select nombre,(select matricula from barcos where id_socio = socios.id_socio) as matricula\n",
        "from socios where id_socio = (select id_socio from barcos where id_socio = socios.id_socio and cuota > 500);"
      ],
      "metadata": {
        "id": "szEj8t7WmcpA",
        "colab": {
          "base_uri": "https://localhost:8080/",
          "height": 225
        },
        "outputId": "6f37177f-8828-443e-c548-6f89f7e6392c"
      },
      "id": "szEj8t7WmcpA",
      "execution_count": 7,
      "outputs": [
        {
          "output_type": "stream",
          "name": "stdout",
          "text": [
            " * sqlite:///ejemplos.db\n",
            "Done.\n"
          ]
        },
        {
          "output_type": "execute_result",
          "data": {
            "text/plain": [
              "[('Juan Pérez', 'ABC123'),\n",
              " ('Luis Fernández', 'GHI789'),\n",
              " ('Laura Sánchez', 'JKL012'),\n",
              " ('Carlos López', 'MNO345'),\n",
              " ('Marta Díaz', 'PQR678'),\n",
              " ('Lucía Jiménez', 'VWX234'),\n",
              " ('Fernando Martín', 'BCD890')]"
            ],
            "text/html": [
              "<table>\n",
              "    <thead>\n",
              "        <tr>\n",
              "            <th>nombre</th>\n",
              "            <th>matricula</th>\n",
              "        </tr>\n",
              "    </thead>\n",
              "    <tbody>\n",
              "        <tr>\n",
              "            <td>Juan Pérez</td>\n",
              "            <td>ABC123</td>\n",
              "        </tr>\n",
              "        <tr>\n",
              "            <td>Luis Fernández</td>\n",
              "            <td>GHI789</td>\n",
              "        </tr>\n",
              "        <tr>\n",
              "            <td>Laura Sánchez</td>\n",
              "            <td>JKL012</td>\n",
              "        </tr>\n",
              "        <tr>\n",
              "            <td>Carlos López</td>\n",
              "            <td>MNO345</td>\n",
              "        </tr>\n",
              "        <tr>\n",
              "            <td>Marta Díaz</td>\n",
              "            <td>PQR678</td>\n",
              "        </tr>\n",
              "        <tr>\n",
              "            <td>Lucía Jiménez</td>\n",
              "            <td>VWX234</td>\n",
              "        </tr>\n",
              "        <tr>\n",
              "            <td>Fernando Martín</td>\n",
              "            <td>BCD890</td>\n",
              "        </tr>\n",
              "    </tbody>\n",
              "</table>"
            ]
          },
          "metadata": {},
          "execution_count": 7
        }
      ]
    },
    {
      "cell_type": "markdown",
      "source": [],
      "metadata": {
        "id": "BuvaT17Xlbe_"
      },
      "id": "BuvaT17Xlbe_"
    },
    {
      "cell_type": "markdown",
      "source": [
        "5. ¿Qué barcos han salido con destino a 'Mallorca'?"
      ],
      "metadata": {
        "id": "pTl4-C4ymjpp"
      },
      "id": "pTl4-C4ymjpp"
    },
    {
      "cell_type": "code",
      "source": [
        "%%sql\n",
        "select matricula,(select destino from salida where matricula = barcos.matricula) as destino\n",
        "from barcos where matricula = (select matricula from salida where matricula = barcos.matricula and destino = 'Mallorca');"
      ],
      "metadata": {
        "id": "tzlnW9Etmo8L",
        "colab": {
          "base_uri": "https://localhost:8080/",
          "height": 139
        },
        "outputId": "1d796772-d01f-402c-cba0-c93e17b6553b"
      },
      "id": "tzlnW9Etmo8L",
      "execution_count": 8,
      "outputs": [
        {
          "output_type": "stream",
          "name": "stdout",
          "text": [
            " * sqlite:///ejemplos.db\n",
            "Done.\n"
          ]
        },
        {
          "output_type": "execute_result",
          "data": {
            "text/plain": [
              "[('ABC123', 'Mallorca'), ('JKL012', 'Mallorca'), ('PQR678', 'Mallorca')]"
            ],
            "text/html": [
              "<table>\n",
              "    <thead>\n",
              "        <tr>\n",
              "            <th>matricula</th>\n",
              "            <th>destino</th>\n",
              "        </tr>\n",
              "    </thead>\n",
              "    <tbody>\n",
              "        <tr>\n",
              "            <td>ABC123</td>\n",
              "            <td>Mallorca</td>\n",
              "        </tr>\n",
              "        <tr>\n",
              "            <td>JKL012</td>\n",
              "            <td>Mallorca</td>\n",
              "        </tr>\n",
              "        <tr>\n",
              "            <td>PQR678</td>\n",
              "            <td>Mallorca</td>\n",
              "        </tr>\n",
              "    </tbody>\n",
              "</table>"
            ]
          },
          "metadata": {},
          "execution_count": 8
        }
      ]
    },
    {
      "cell_type": "markdown",
      "source": [
        "6. ¿Qué patrones (nombre y dirección) han llevado un barco cuyo socio vive en 'Barcelona'?"
      ],
      "metadata": {
        "id": "GsLPyY6WmtEn"
      },
      "id": "GsLPyY6WmtEn"
    },
    {
      "cell_type": "code",
      "source": [
        "%%sql\n",
        "select patron_nombre,patron_direccion\n",
        "from salida where matricula in(select matricula from barcos where id_socio =\n",
        "(select id_socio from socios where direccion like '%Barcelona%'));"
      ],
      "metadata": {
        "id": "AZJDPqvbmvOK",
        "colab": {
          "base_uri": "https://localhost:8080/",
          "height": 96
        },
        "outputId": "0372224a-4f24-4fbc-e563-dd1bcfd44b7c"
      },
      "id": "AZJDPqvbmvOK",
      "execution_count": 12,
      "outputs": [
        {
          "output_type": "stream",
          "name": "stdout",
          "text": [
            " * sqlite:///ejemplos.db\n",
            "Done.\n"
          ]
        },
        {
          "output_type": "execute_result",
          "data": {
            "text/plain": [
              "[('Patrón 2', 'Avenida del Puerto 3, Valencia')]"
            ],
            "text/html": [
              "<table>\n",
              "    <thead>\n",
              "        <tr>\n",
              "            <th>patron_nombre</th>\n",
              "            <th>patron_direccion</th>\n",
              "        </tr>\n",
              "    </thead>\n",
              "    <tbody>\n",
              "        <tr>\n",
              "            <td>Patrón 2</td>\n",
              "            <td>Avenida del Puerto 3, Valencia</td>\n",
              "        </tr>\n",
              "    </tbody>\n",
              "</table>"
            ]
          },
          "metadata": {},
          "execution_count": 12
        }
      ]
    },
    {
      "cell_type": "markdown",
      "source": [
        "### Resolver nuevamentos los incisos, pero ahora usa JOIN\n",
        "1. ¿Qué socios tienen barcos amarrados en un número de amarre mayor que 10?"
      ],
      "metadata": {
        "id": "ox9iE2T6j6Qe"
      },
      "id": "ox9iE2T6j6Qe"
    },
    {
      "cell_type": "code",
      "source": [
        "%%sql\n",
        "select * from socios as s\n",
        "\tinner join barcos as sb\n",
        "\t\ton s.id_socio = sb.id_socio and sb.numero_amarre > 10;"
      ],
      "metadata": {
        "id": "GLzT8mCxALp4",
        "colab": {
          "base_uri": "https://localhost:8080/",
          "height": 182
        },
        "outputId": "74415a12-9a1a-4203-8cb4-8fe0909c833a"
      },
      "id": "GLzT8mCxALp4",
      "execution_count": 13,
      "outputs": [
        {
          "output_type": "stream",
          "name": "stdout",
          "text": [
            " * sqlite:///ejemplos.db\n",
            "Done.\n"
          ]
        },
        {
          "output_type": "execute_result",
          "data": {
            "text/plain": [
              "[(1, 'Juan Pérez', 'Calle Mayor 1, Madrid', 'ABC123', 'El Viento', 12, 600.5, 1),\n",
              " (3, 'Luis Fernández', 'Avenida del Sol 10, Valencia', 'GHI789', 'El Sol', 15, 700, 3),\n",
              " (5, 'Carlos López', 'Calle Río 8, Sevilla', 'MNO345', 'La Luna', 18, 620.3, 5),\n",
              " (6, 'Marta Díaz', 'Calle de la Sierra 12, Zaragoza', 'PQR678', 'El Horizonte', 20, 780.9, 6),\n",
              " (9, 'María Torres', 'Calle Verde 15, Málaga', 'YZA567', 'La Marea', 14, 480.75, 9)]"
            ],
            "text/html": [
              "<table>\n",
              "    <thead>\n",
              "        <tr>\n",
              "            <th>id_socio</th>\n",
              "            <th>nombre</th>\n",
              "            <th>direccion</th>\n",
              "            <th>matricula</th>\n",
              "            <th>nombre_1</th>\n",
              "            <th>numero_amarre</th>\n",
              "            <th>cuota</th>\n",
              "            <th>id_socio_1</th>\n",
              "        </tr>\n",
              "    </thead>\n",
              "    <tbody>\n",
              "        <tr>\n",
              "            <td>1</td>\n",
              "            <td>Juan Pérez</td>\n",
              "            <td>Calle Mayor 1, Madrid</td>\n",
              "            <td>ABC123</td>\n",
              "            <td>El Viento</td>\n",
              "            <td>12</td>\n",
              "            <td>600.5</td>\n",
              "            <td>1</td>\n",
              "        </tr>\n",
              "        <tr>\n",
              "            <td>3</td>\n",
              "            <td>Luis Fernández</td>\n",
              "            <td>Avenida del Sol 10, Valencia</td>\n",
              "            <td>GHI789</td>\n",
              "            <td>El Sol</td>\n",
              "            <td>15</td>\n",
              "            <td>700</td>\n",
              "            <td>3</td>\n",
              "        </tr>\n",
              "        <tr>\n",
              "            <td>5</td>\n",
              "            <td>Carlos López</td>\n",
              "            <td>Calle Río 8, Sevilla</td>\n",
              "            <td>MNO345</td>\n",
              "            <td>La Luna</td>\n",
              "            <td>18</td>\n",
              "            <td>620.3</td>\n",
              "            <td>5</td>\n",
              "        </tr>\n",
              "        <tr>\n",
              "            <td>6</td>\n",
              "            <td>Marta Díaz</td>\n",
              "            <td>Calle de la Sierra 12, Zaragoza</td>\n",
              "            <td>PQR678</td>\n",
              "            <td>El Horizonte</td>\n",
              "            <td>20</td>\n",
              "            <td>780.9</td>\n",
              "            <td>6</td>\n",
              "        </tr>\n",
              "        <tr>\n",
              "            <td>9</td>\n",
              "            <td>María Torres</td>\n",
              "            <td>Calle Verde 15, Málaga</td>\n",
              "            <td>YZA567</td>\n",
              "            <td>La Marea</td>\n",
              "            <td>14</td>\n",
              "            <td>480.75</td>\n",
              "            <td>9</td>\n",
              "        </tr>\n",
              "    </tbody>\n",
              "</table>"
            ]
          },
          "metadata": {},
          "execution_count": 13
        }
      ]
    },
    {
      "cell_type": "markdown",
      "source": [
        "2. ¿Cuáles son los nombres de los barcos y sus cuotas de aquellos barcos cuyo socio se llama 'Juan Pérez'?"
      ],
      "metadata": {
        "id": "mJJkAhkVAw4N"
      },
      "id": "mJJkAhkVAw4N"
    },
    {
      "cell_type": "code",
      "source": [
        "%%sql\n",
        "select sb.nombre, sb.cuota from barcos as sb\n",
        "\tinner join socios as s\n",
        "\t\ton s.id_socio = sb.id_socio and s.nombre = 'Juan Pérez';"
      ],
      "metadata": {
        "id": "PnZz1YO8A-tk",
        "colab": {
          "base_uri": "https://localhost:8080/",
          "height": 96
        },
        "outputId": "b8c47112-6de1-45d6-8890-c65a0d66eb9c"
      },
      "id": "PnZz1YO8A-tk",
      "execution_count": 16,
      "outputs": [
        {
          "output_type": "stream",
          "name": "stdout",
          "text": [
            " * sqlite:///ejemplos.db\n",
            "Done.\n"
          ]
        },
        {
          "output_type": "execute_result",
          "data": {
            "text/plain": [
              "[('El Viento', 600.5)]"
            ],
            "text/html": [
              "<table>\n",
              "    <thead>\n",
              "        <tr>\n",
              "            <th>nombre</th>\n",
              "            <th>cuota</th>\n",
              "        </tr>\n",
              "    </thead>\n",
              "    <tbody>\n",
              "        <tr>\n",
              "            <td>El Viento</td>\n",
              "            <td>600.5</td>\n",
              "        </tr>\n",
              "    </tbody>\n",
              "</table>"
            ]
          },
          "metadata": {},
          "execution_count": 16
        }
      ]
    },
    {
      "cell_type": "markdown",
      "source": [
        "3. ¿Cuántas salidas ha realizado el barco con matrícula 'ABC123'?"
      ],
      "metadata": {
        "id": "yk0e4EqFA2Wi"
      },
      "id": "yk0e4EqFA2Wi"
    },
    {
      "cell_type": "code",
      "source": [
        "%%sql\n",
        "select sb.nombre, sb.matricula, s.id_salida, count(*) as num_salida from barcos as sb\n",
        "\tinner join salida as s\n",
        "\t\ton s.matricula = sb.matricula and s.matricula = 'ABC123' group by sb.matricula;"
      ],
      "metadata": {
        "id": "DnZcgiyAA7IX",
        "colab": {
          "base_uri": "https://localhost:8080/",
          "height": 96
        },
        "outputId": "13dabaac-afb2-42c7-ba38-fa2f198aafa6"
      },
      "id": "DnZcgiyAA7IX",
      "execution_count": 22,
      "outputs": [
        {
          "output_type": "stream",
          "name": "stdout",
          "text": [
            " * sqlite:///ejemplos.db\n",
            "Done.\n"
          ]
        },
        {
          "output_type": "execute_result",
          "data": {
            "text/plain": [
              "[('El Viento', 'ABC123', 1, 1)]"
            ],
            "text/html": [
              "<table>\n",
              "    <thead>\n",
              "        <tr>\n",
              "            <th>nombre</th>\n",
              "            <th>matricula</th>\n",
              "            <th>id_salida</th>\n",
              "            <th>num_salida</th>\n",
              "        </tr>\n",
              "    </thead>\n",
              "    <tbody>\n",
              "        <tr>\n",
              "            <td>El Viento</td>\n",
              "            <td>ABC123</td>\n",
              "            <td>1</td>\n",
              "            <td>1</td>\n",
              "        </tr>\n",
              "    </tbody>\n",
              "</table>"
            ]
          },
          "metadata": {},
          "execution_count": 22
        }
      ]
    },
    {
      "cell_type": "markdown",
      "source": [
        "4. Lista los barcos que tienen una cuota mayor a 500 y sus respectivos socios."
      ],
      "metadata": {
        "id": "Qeloyr4lBBNt"
      },
      "id": "Qeloyr4lBBNt"
    },
    {
      "cell_type": "code",
      "source": [
        "%%sql\n",
        "select b.matricula,b.nombre,s.nombre,s.id_socio from barcos as b inner join socios as s\n",
        "where s.id_socio = b.id_socio and b.cuota >= 500;"
      ],
      "metadata": {
        "id": "nfsIe3C3BCkR",
        "colab": {
          "base_uri": "https://localhost:8080/",
          "height": 225
        },
        "outputId": "e4f7c429-560e-470e-bb3c-a41f93bf73d6"
      },
      "id": "nfsIe3C3BCkR",
      "execution_count": 24,
      "outputs": [
        {
          "output_type": "stream",
          "name": "stdout",
          "text": [
            " * sqlite:///ejemplos.db\n",
            "Done.\n"
          ]
        },
        {
          "output_type": "execute_result",
          "data": {
            "text/plain": [
              "[('ABC123', 'El Viento', 'Juan Pérez', 1),\n",
              " ('GHI789', 'El Sol', 'Luis Fernández', 3),\n",
              " ('JKL012', 'El Mar', 'Laura Sánchez', 4),\n",
              " ('MNO345', 'La Luna', 'Carlos López', 5),\n",
              " ('PQR678', 'El Horizonte', 'Marta Díaz', 6),\n",
              " ('VWX234', 'La Estrella', 'Lucía Jiménez', 8),\n",
              " ('BCD890', 'El Océano', 'Fernando Martín', 10)]"
            ],
            "text/html": [
              "<table>\n",
              "    <thead>\n",
              "        <tr>\n",
              "            <th>matricula</th>\n",
              "            <th>nombre</th>\n",
              "            <th>nombre_1</th>\n",
              "            <th>id_socio</th>\n",
              "        </tr>\n",
              "    </thead>\n",
              "    <tbody>\n",
              "        <tr>\n",
              "            <td>ABC123</td>\n",
              "            <td>El Viento</td>\n",
              "            <td>Juan Pérez</td>\n",
              "            <td>1</td>\n",
              "        </tr>\n",
              "        <tr>\n",
              "            <td>GHI789</td>\n",
              "            <td>El Sol</td>\n",
              "            <td>Luis Fernández</td>\n",
              "            <td>3</td>\n",
              "        </tr>\n",
              "        <tr>\n",
              "            <td>JKL012</td>\n",
              "            <td>El Mar</td>\n",
              "            <td>Laura Sánchez</td>\n",
              "            <td>4</td>\n",
              "        </tr>\n",
              "        <tr>\n",
              "            <td>MNO345</td>\n",
              "            <td>La Luna</td>\n",
              "            <td>Carlos López</td>\n",
              "            <td>5</td>\n",
              "        </tr>\n",
              "        <tr>\n",
              "            <td>PQR678</td>\n",
              "            <td>El Horizonte</td>\n",
              "            <td>Marta Díaz</td>\n",
              "            <td>6</td>\n",
              "        </tr>\n",
              "        <tr>\n",
              "            <td>VWX234</td>\n",
              "            <td>La Estrella</td>\n",
              "            <td>Lucía Jiménez</td>\n",
              "            <td>8</td>\n",
              "        </tr>\n",
              "        <tr>\n",
              "            <td>BCD890</td>\n",
              "            <td>El Océano</td>\n",
              "            <td>Fernando Martín</td>\n",
              "            <td>10</td>\n",
              "        </tr>\n",
              "    </tbody>\n",
              "</table>"
            ]
          },
          "metadata": {},
          "execution_count": 24
        }
      ]
    },
    {
      "cell_type": "markdown",
      "source": [
        "5. ¿Qué barcos han salido con destino a 'Mallorca'?"
      ],
      "metadata": {
        "id": "GMqo1KlDBFwm"
      },
      "id": "GMqo1KlDBFwm"
    },
    {
      "cell_type": "code",
      "source": [
        "%%sql\n",
        "select b.matricula,b.nombre from barcos as b inner join salida as s\n",
        "where s.matricula = b.matricula and s.destino = 'Mallorca';"
      ],
      "metadata": {
        "id": "etjf3fFgBFd-",
        "colab": {
          "base_uri": "https://localhost:8080/",
          "height": 139
        },
        "outputId": "2ba66eb9-e5ef-4a84-b99c-5d2e894d03cc"
      },
      "id": "etjf3fFgBFd-",
      "execution_count": 25,
      "outputs": [
        {
          "output_type": "stream",
          "name": "stdout",
          "text": [
            " * sqlite:///ejemplos.db\n",
            "Done.\n"
          ]
        },
        {
          "output_type": "execute_result",
          "data": {
            "text/plain": [
              "[('ABC123', 'El Viento'), ('JKL012', 'El Mar'), ('PQR678', 'El Horizonte')]"
            ],
            "text/html": [
              "<table>\n",
              "    <thead>\n",
              "        <tr>\n",
              "            <th>matricula</th>\n",
              "            <th>nombre</th>\n",
              "        </tr>\n",
              "    </thead>\n",
              "    <tbody>\n",
              "        <tr>\n",
              "            <td>ABC123</td>\n",
              "            <td>El Viento</td>\n",
              "        </tr>\n",
              "        <tr>\n",
              "            <td>JKL012</td>\n",
              "            <td>El Mar</td>\n",
              "        </tr>\n",
              "        <tr>\n",
              "            <td>PQR678</td>\n",
              "            <td>El Horizonte</td>\n",
              "        </tr>\n",
              "    </tbody>\n",
              "</table>"
            ]
          },
          "metadata": {},
          "execution_count": 25
        }
      ]
    },
    {
      "cell_type": "markdown",
      "source": [
        "6. ¿Qué patrones (nombre y dirección) han llevado un barco cuyo socio vive en 'Barcelona'?"
      ],
      "metadata": {
        "id": "4rDZTOCSBJQJ"
      },
      "id": "4rDZTOCSBJQJ"
    },
    {
      "cell_type": "code",
      "source": [
        "%%sql\n",
        "select patron_nombre,patron_direccion from salida inner join barcos on\n",
        " salida.matricula = barcos.matricula inner join socios on\n",
        "barcos.id_socio = socios.id_socio where\n",
        " socios.direccion like '%Barcelona%';"
      ],
      "metadata": {
        "id": "s6MRh7hHBKMb",
        "colab": {
          "base_uri": "https://localhost:8080/",
          "height": 96
        },
        "outputId": "f6406266-91c5-4bcc-97a2-268f8f0d7d17"
      },
      "id": "s6MRh7hHBKMb",
      "execution_count": 27,
      "outputs": [
        {
          "output_type": "stream",
          "name": "stdout",
          "text": [
            " * sqlite:///ejemplos.db\n",
            "Done.\n"
          ]
        },
        {
          "output_type": "execute_result",
          "data": {
            "text/plain": [
              "[('Patrón 2', 'Avenida del Puerto 3, Valencia')]"
            ],
            "text/html": [
              "<table>\n",
              "    <thead>\n",
              "        <tr>\n",
              "            <th>patron_nombre</th>\n",
              "            <th>patron_direccion</th>\n",
              "        </tr>\n",
              "    </thead>\n",
              "    <tbody>\n",
              "        <tr>\n",
              "            <td>Patrón 2</td>\n",
              "            <td>Avenida del Puerto 3, Valencia</td>\n",
              "        </tr>\n",
              "    </tbody>\n",
              "</table>"
            ]
          },
          "metadata": {},
          "execution_count": 27
        }
      ]
    },
    {
      "cell_type": "markdown",
      "id": "d3111595",
      "metadata": {
        "id": "d3111595"
      },
      "source": [
        "\n",
        "## EJERCICIO 2: Base de datos para un gabinete de abogados\n",
        "\n",
        "### Descripción:\n",
        "Se quiere diseñar una base de datos relacional para almacenar información sobre los asuntos que lleva un gabinete de abogados. Cada asunto tiene un número de expediente que lo identifica y corresponde a un solo cliente. Del asunto se debe almacenar:\n",
        "- Período (fecha de inicio y fecha de archivo o finalización)\n",
        "- Estado (en trámite, archivado, etc.)\n",
        "- Datos personales del cliente (DNI, nombre, dirección, etc.)\n",
        "\n",
        "Algunos asuntos son llevados por uno o varios procuradores, de los que nos interesa también almacenar los datos personales.\n",
        "\n",
        "### Esquema propuesto:\n",
        "- Tabla `Clientes`: Almacena la información de los clientes: dni (clave primaria), nombre y dirección.\n",
        "- Tabla `Asuntos`: Almacena la información de los asuntos: numero de expediente (clave primaria), dni del cliente (clave externa), fecha de inicio, fecha de fin y estado (Abierto o Cerrado). Si el asunto está abierto, no tiene fecha de fin.\n",
        "- Tabla `Procuradores`: Almacena la información de los procuradores: id del procurador (clave priaria), nombre y dirección.\n",
        "- Tabla `Asuntos_Procuradores`: Relaciona los asuntos con los procuradores (muchos a muchos).\n",
        "\n",
        "### SQL para crear las tablas:\n"
      ]
    },
    {
      "cell_type": "code",
      "source": [
        "%%sql\n",
        "create table clientes(dni int primary key, nombre varchar(50), direccion varchar(50));\n",
        "create table asuntos(num_expediente int primary key, dni_cliente int,\n",
        "fecha_inicio date,fecha_fin date, abierto boolean,\n",
        "constraint fk_dni foreign key(dni_cliente) references clientes(dni));\n",
        "create table procuradores(id_procurador int primary key, nombre varchar(50), direccion varchar(50));\n",
        "create table asuntos_procuradores(numero_expediente int, id_procurador int,\n",
        "constraint fk_asunto foreign key(numero_expediente) references asuntos(num_expediente),\n",
        "constraint fk_procurador foreign key(id_procurador) references procuradores(id_procurador)\n",
        ");"
      ],
      "metadata": {
        "id": "QtKIwysZeNtz",
        "colab": {
          "base_uri": "https://localhost:8080/"
        },
        "outputId": "0ce99194-0d96-4a9e-a6bf-b29da78991a3"
      },
      "id": "QtKIwysZeNtz",
      "execution_count": 2,
      "outputs": [
        {
          "output_type": "stream",
          "name": "stdout",
          "text": [
            " * sqlite:///ejemplos.db\n",
            "Done.\n",
            "Done.\n",
            "Done.\n",
            "Done.\n"
          ]
        },
        {
          "output_type": "execute_result",
          "data": {
            "text/plain": [
              "[]"
            ]
          },
          "metadata": {},
          "execution_count": 2
        }
      ]
    },
    {
      "cell_type": "markdown",
      "source": [],
      "metadata": {
        "id": "Yhom8Hjlesap"
      },
      "id": "Yhom8Hjlesap"
    },
    {
      "cell_type": "code",
      "source": [
        "%%sql\n",
        "-- Poblar la tabla Clientes\n",
        "INSERT INTO Clientes (dni, nombre, direccion)\n",
        "VALUES\n",
        "('123456789', 'Juan Pérez', 'Calle Pueyrredón 3498, Buenos Aires'),\n",
        "('987654321', 'Ana García', 'Calle 5 323, La Plata'),\n",
        "('456123789', 'Luis Fernández', 'Avenida de Gral. Paz 1056, Bahía Blanca');\n",
        "\n",
        "-- Poblar la tabla Asuntos\n",
        "INSERT INTO Asuntos (num_expediente, dni_cliente, fecha_inicio, fecha_fin, abierto)\n",
        "VALUES\n",
        "(1, '123456789', '2023-01-15', '2023-07-20', 0),\n",
        "(2, '987654321', '2023-05-10', NULL, 1),\n",
        "(3, '456123789', '2023-06-01', '2023-09-10', 0);\n",
        "\n",
        "-- Poblar la tabla Procuradores\n",
        "INSERT INTO Procuradores (id_procurador, nombre, direccion)\n",
        "VALUES\n",
        "(1, 'Laura Sánchez', 'Calle Soler 3765, Buenos Aires'),\n",
        "(2, 'Carlos López', 'Calle Estrellas 8, Mar del Plata'),\n",
        "(3, 'Marta Díaz', 'Calle Estación 12, Olavarria');\n",
        "\n",
        "-- Poblar la tabla Asuntos_Procuradores\n",
        "INSERT INTO Asuntos_Procuradores (numero_expediente, id_procurador)\n",
        "VALUES\n",
        "(1, 1),\n",
        "(2, 2),\n",
        "(3, 3),\n",
        "(2, 1);  -- Un asunto puede tener varios procuradores"
      ],
      "metadata": {
        "id": "5o4a19qHetVz",
        "colab": {
          "base_uri": "https://localhost:8080/"
        },
        "outputId": "cfebf1a5-5211-49f9-aa6c-00a13ba34863"
      },
      "id": "5o4a19qHetVz",
      "execution_count": 3,
      "outputs": [
        {
          "output_type": "stream",
          "name": "stdout",
          "text": [
            " * sqlite:///ejemplos.db\n",
            "3 rows affected.\n",
            "3 rows affected.\n",
            "3 rows affected.\n",
            "4 rows affected.\n"
          ]
        },
        {
          "output_type": "execute_result",
          "data": {
            "text/plain": [
              "[]"
            ]
          },
          "metadata": {},
          "execution_count": 3
        }
      ]
    },
    {
      "cell_type": "markdown",
      "source": [
        "### Resolver estas consignas usando _únicamente_ JOIN en las consultas:\n",
        "1. ¿Cuál es el nombre y la dirección de los procuradores que han trabajado en un asunto abierto?"
      ],
      "metadata": {
        "id": "OvOaPQYTgkBJ"
      },
      "id": "OvOaPQYTgkBJ"
    },
    {
      "cell_type": "code",
      "source": [
        "%%sql\n",
        "select nombre,direccion from procuradores p inner join asuntos_procuradores ap on p.id_procurador = ap.id_procurador\n",
        "inner join asuntos a on ap.numero_expediente = a.num_expediente where a.abierto = 1;"
      ],
      "metadata": {
        "id": "ZO891c6ZgrZm",
        "colab": {
          "base_uri": "https://localhost:8080/",
          "height": 118
        },
        "outputId": "2c582b6a-4a63-457a-dd8a-bf4e7b03262b"
      },
      "id": "ZO891c6ZgrZm",
      "execution_count": 5,
      "outputs": [
        {
          "output_type": "stream",
          "name": "stdout",
          "text": [
            " * sqlite:///ejemplos.db\n",
            "Done.\n"
          ]
        },
        {
          "output_type": "execute_result",
          "data": {
            "text/plain": [
              "[('Carlos López', 'Calle Estrellas 8, Mar del Plata'),\n",
              " ('Laura Sánchez', 'Calle Soler 3765, Buenos Aires')]"
            ],
            "text/html": [
              "<table>\n",
              "    <thead>\n",
              "        <tr>\n",
              "            <th>nombre</th>\n",
              "            <th>direccion</th>\n",
              "        </tr>\n",
              "    </thead>\n",
              "    <tbody>\n",
              "        <tr>\n",
              "            <td>Carlos López</td>\n",
              "            <td>Calle Estrellas 8, Mar del Plata</td>\n",
              "        </tr>\n",
              "        <tr>\n",
              "            <td>Laura Sánchez</td>\n",
              "            <td>Calle Soler 3765, Buenos Aires</td>\n",
              "        </tr>\n",
              "    </tbody>\n",
              "</table>"
            ]
          },
          "metadata": {},
          "execution_count": 5
        }
      ]
    },
    {
      "cell_type": "markdown",
      "source": [
        "2. ¿Qué clientes han tenido asuntos en los que ha participado el procurador Carlos López?"
      ],
      "metadata": {
        "id": "Y5qojbXWg9mh"
      },
      "id": "Y5qojbXWg9mh"
    },
    {
      "cell_type": "code",
      "source": [
        "%%sql\n",
        "select c.nombre,c.direccion from clientes c inner join asuntos a on a.dni_cliente = c.dni\n",
        "inner join asuntos_procuradores ap on ap.numero_expediente = a.num_expediente join procuradores p\n",
        "on ap.id_procurador = p.id_procurador where p.nombre = 'Carlos López';"
      ],
      "metadata": {
        "id": "JlQjPghDhBrj",
        "colab": {
          "base_uri": "https://localhost:8080/",
          "height": 96
        },
        "outputId": "d813af7c-761c-42bf-a497-2cbb2bee6e48"
      },
      "id": "JlQjPghDhBrj",
      "execution_count": 7,
      "outputs": [
        {
          "output_type": "stream",
          "name": "stdout",
          "text": [
            " * sqlite:///ejemplos.db\n",
            "Done.\n"
          ]
        },
        {
          "output_type": "execute_result",
          "data": {
            "text/plain": [
              "[('Ana García', 'Calle 5 323, La Plata')]"
            ],
            "text/html": [
              "<table>\n",
              "    <thead>\n",
              "        <tr>\n",
              "            <th>nombre</th>\n",
              "            <th>direccion</th>\n",
              "        </tr>\n",
              "    </thead>\n",
              "    <tbody>\n",
              "        <tr>\n",
              "            <td>Ana García</td>\n",
              "            <td>Calle 5 323, La Plata</td>\n",
              "        </tr>\n",
              "    </tbody>\n",
              "</table>"
            ]
          },
          "metadata": {},
          "execution_count": 7
        }
      ]
    },
    {
      "cell_type": "markdown",
      "source": [
        "3. ¿Cuántos asuntos ha gestionado cada procurador?"
      ],
      "metadata": {
        "id": "1NfxB7M6hKsX"
      },
      "id": "1NfxB7M6hKsX"
    },
    {
      "cell_type": "code",
      "source": [
        "%%sql\n",
        "select p.nombre,count(*) as num_asuntos from procuradores p inner join asuntos_procuradores ap\n",
        "on p.id_procurador = ap.id_procurador inner join asuntos a on ap.numero_expediente = a.num_expediente group by p.nombre;"
      ],
      "metadata": {
        "id": "kZHFCFX0hS5-",
        "colab": {
          "base_uri": "https://localhost:8080/",
          "height": 139
        },
        "outputId": "ba5c5afd-0287-4015-d3d8-df040ba8a647"
      },
      "id": "kZHFCFX0hS5-",
      "execution_count": 9,
      "outputs": [
        {
          "output_type": "stream",
          "name": "stdout",
          "text": [
            " * sqlite:///ejemplos.db\n",
            "Done.\n"
          ]
        },
        {
          "output_type": "execute_result",
          "data": {
            "text/plain": [
              "[('Carlos López', 1), ('Laura Sánchez', 2), ('Marta Díaz', 1)]"
            ],
            "text/html": [
              "<table>\n",
              "    <thead>\n",
              "        <tr>\n",
              "            <th>nombre</th>\n",
              "            <th>num_asuntos</th>\n",
              "        </tr>\n",
              "    </thead>\n",
              "    <tbody>\n",
              "        <tr>\n",
              "            <td>Carlos López</td>\n",
              "            <td>1</td>\n",
              "        </tr>\n",
              "        <tr>\n",
              "            <td>Laura Sánchez</td>\n",
              "            <td>2</td>\n",
              "        </tr>\n",
              "        <tr>\n",
              "            <td>Marta Díaz</td>\n",
              "            <td>1</td>\n",
              "        </tr>\n",
              "    </tbody>\n",
              "</table>"
            ]
          },
          "metadata": {},
          "execution_count": 9
        }
      ]
    },
    {
      "cell_type": "markdown",
      "source": [
        "4. Lista los números de expediente y fechas de inicio de los asuntos de los clientes que viven en Buenos Aires."
      ],
      "metadata": {
        "id": "zHUFuerKhjc2"
      },
      "id": "zHUFuerKhjc2"
    },
    {
      "cell_type": "code",
      "source": [
        "%%sql\n",
        "select a.num_expediente,a.fecha_inicio from clientes c inner join asuntos a on c.dni = a.dni_cliente\n",
        "inner join asuntos_procuradores ap on ap.numero_expediente = a.num_expediente\n",
        "inner join procuradores p on ap.id_procurador = p.id_procurador where c.direccion like '%Buenos Aires%';"
      ],
      "metadata": {
        "id": "9RDQt_5lipod",
        "colab": {
          "base_uri": "https://localhost:8080/",
          "height": 96
        },
        "outputId": "01286061-7e02-4ddc-f9ff-2c9677a5ae3d"
      },
      "id": "9RDQt_5lipod",
      "execution_count": 11,
      "outputs": [
        {
          "output_type": "stream",
          "name": "stdout",
          "text": [
            " * sqlite:///ejemplos.db\n",
            "Done.\n"
          ]
        },
        {
          "output_type": "execute_result",
          "data": {
            "text/plain": [
              "[(1, '2023-01-15')]"
            ],
            "text/html": [
              "<table>\n",
              "    <thead>\n",
              "        <tr>\n",
              "            <th>num_expediente</th>\n",
              "            <th>fecha_inicio</th>\n",
              "        </tr>\n",
              "    </thead>\n",
              "    <tbody>\n",
              "        <tr>\n",
              "            <td>1</td>\n",
              "            <td>2023-01-15</td>\n",
              "        </tr>\n",
              "    </tbody>\n",
              "</table>"
            ]
          },
          "metadata": {},
          "execution_count": 11
        }
      ]
    },
    {
      "cell_type": "markdown",
      "source": [
        "# Entrega\n",
        "La entrega consiste en completar esta hoja y subirla a su repositorio GIT\n",
        "Se deben entregar también los diagramas de esquema de tablas como imagenes aparte.\n",
        "Fecha límite: 30 de septiembre a las 23:59 hs"
      ],
      "metadata": {
        "id": "aIF74m2eV9J9"
      },
      "id": "aIF74m2eV9J9"
    }
  ],
  "metadata": {
    "colab": {
      "provenance": [],
      "collapsed_sections": [
        "75f13c80"
      ]
    },
    "language_info": {
      "name": "python"
    },
    "kernelspec": {
      "name": "python3",
      "display_name": "Python 3"
    }
  },
  "nbformat": 4,
  "nbformat_minor": 5
}